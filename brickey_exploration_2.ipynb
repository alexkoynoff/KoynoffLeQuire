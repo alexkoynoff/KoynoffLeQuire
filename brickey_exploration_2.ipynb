{
 "cells": [
  {
   "cell_type": "code",
   "execution_count": 1,
   "metadata": {},
   "outputs": [],
   "source": [
    "# Dependencies\n",
    "import numpy as np\n",
    "import pandas as pd\n",
    "import sqlalchemy\n",
    "from sqlalchemy import *\n",
    "from config import username, password"
   ]
  },
  {
   "cell_type": "code",
   "execution_count": 2,
   "metadata": {},
   "outputs": [],
   "source": [
    "dfPop2000 = pd.DataFrame\n",
    "csvFile = 'Resources/population_by_zip_2000.csv'\n",
    "dfPop2000 = pd.read_csv(csvFile,delimiter=',',encoding='utf-8',low_memory=False,dtype=str)\n",
    "dfPop2010 = pd.DataFrame\n",
    "csvFile = 'Resources/population_by_zip_2010.csv'\n",
    "dfPop2010 = pd.read_csv(csvFile,delimiter=',',encoding='utf-8',low_memory=False,dtype=str)\n",
    "dfBars = pd.DataFrame\n",
    "csvFile = 'Resources/8260_1.csv'\n",
    "\n",
    "dfBars = pd.read_csv(csvFile,delimiter=',',encoding='utf-8',low_memory=False,dtype=str)\n",
    "dfBars.dropna(subset=['postalCode'],inplace=True) # Drop rows with no zip code listed\n",
    "dfBars['postalCode'] = dfBars['postalCode'].str.zfill(5) # Prepend '0' if zip code less than 5 digits long\n",
    "dfBars['postalCode'] = dfBars['postalCode'].str.slice(start=0,stop=5) # Keep only first 5 digits of zip code\n",
    "bars_columns = ['postalCode','name']\n",
    "bars_clean = dfBars[bars_columns].copy()\n",
    "dfBars=bars_clean.rename(columns={'postalCode':'zipcode'})\n",
    "\n",
    "ZipBars = dfBars.groupby(['zipcode']).count()\n",
    "ZipBars.sort_values('name',ascending=False,inplace=True)\n",
    "ZipBars.rename(columns={'name':'bar_count'},inplace=True)\n",
    "\n",
    "dfPop2010.dropna(subset=['zipcode'],inplace=True)\n",
    "dfPop2010['zipcode'] = dfPop2010['zipcode'].str.zfill(5)\n",
    "dfPop2010['zipcode'] = dfPop2010['zipcode'].str.slice(start=0,stop=5)\n",
    "\n",
    "dfPop2000.dropna(subset=['zipcode'],inplace=True)\n",
    "dfPop2000['zipcode'] = dfPop2000['zipcode'].str.zfill(5)\n",
    "dfPop2000['zipcode'] = dfPop2000['zipcode'].str.slice(start=0,stop=5)\n"
   ]
  },
  {
   "cell_type": "code",
   "execution_count": 3,
   "metadata": {},
   "outputs": [
    {
     "data": {
      "text/plain": [
       "['bars_per_zipcode']"
      ]
     },
     "execution_count": 3,
     "metadata": {},
     "output_type": "execute_result"
    }
   ],
   "source": [
    "# Create connection to Bars_db\n",
    "rds_connection_string = username + ':' + password + '@127.0.0.1/Bars_db'\n",
    "engine = create_engine(f'mysql://{rds_connection_string}')\n",
    "ZipBars.to_sql(name='bars_per_zipcode', con=engine, if_exists='replace', index=True, index_label='zipcode',dtype={'zipcode':String(5)})\n",
    "engine.table_names()"
   ]
  },
  {
   "cell_type": "code",
   "execution_count": 4,
   "metadata": {},
   "outputs": [
    {
     "data": {
      "text/html": [
       "<div>\n",
       "<style scoped>\n",
       "    .dataframe tbody tr th:only-of-type {\n",
       "        vertical-align: middle;\n",
       "    }\n",
       "\n",
       "    .dataframe tbody tr th {\n",
       "        vertical-align: top;\n",
       "    }\n",
       "\n",
       "    .dataframe thead th {\n",
       "        text-align: right;\n",
       "    }\n",
       "</style>\n",
       "<table border=\"1\" class=\"dataframe\">\n",
       "  <thead>\n",
       "    <tr style=\"text-align: right;\">\n",
       "      <th></th>\n",
       "      <th>zipcode</th>\n",
       "      <th>bar_count</th>\n",
       "    </tr>\n",
       "  </thead>\n",
       "  <tbody>\n",
       "    <tr>\n",
       "      <th>0</th>\n",
       "      <td>04412</td>\n",
       "      <td>57</td>\n",
       "    </tr>\n",
       "    <tr>\n",
       "      <th>1</th>\n",
       "      <td>93446</td>\n",
       "      <td>51</td>\n",
       "    </tr>\n",
       "    <tr>\n",
       "      <th>2</th>\n",
       "      <td>94558</td>\n",
       "      <td>49</td>\n",
       "    </tr>\n",
       "    <tr>\n",
       "      <th>3</th>\n",
       "      <td>95448</td>\n",
       "      <td>44</td>\n",
       "    </tr>\n",
       "    <tr>\n",
       "      <th>4</th>\n",
       "      <td>43215</td>\n",
       "      <td>42</td>\n",
       "    </tr>\n",
       "  </tbody>\n",
       "</table>\n",
       "</div>"
      ],
      "text/plain": [
       "  zipcode  bar_count\n",
       "0   04412         57\n",
       "1   93446         51\n",
       "2   94558         49\n",
       "3   95448         44\n",
       "4   43215         42"
      ]
     },
     "execution_count": 4,
     "metadata": {},
     "output_type": "execute_result"
    }
   ],
   "source": [
    "pd.read_sql_query('select * from bars_per_zipcode', con=engine).head()"
   ]
  },
  {
   "cell_type": "code",
   "execution_count": null,
   "metadata": {},
   "outputs": [],
   "source": []
  }
 ],
 "metadata": {
  "file_extension": ".py",
  "kernelspec": {
   "display_name": "Python 3",
   "language": "python",
   "name": "python3"
  },
  "language_info": {
   "codemirror_mode": {
    "name": "ipython",
    "version": 3
   },
   "file_extension": ".py",
   "mimetype": "text/x-python",
   "name": "python",
   "nbconvert_exporter": "python",
   "pygments_lexer": "ipython3",
   "version": "3.6.6"
  },
  "mimetype": "text/x-python",
  "name": "python",
  "npconvert_exporter": "python",
  "pygments_lexer": "ipython3",
  "version": 3
 },
 "nbformat": 4,
 "nbformat_minor": 2
}
